{
 "cells": [
  {
   "cell_type": "code",
   "execution_count": 85,
   "metadata": {},
   "outputs": [
    {
     "name": "stdout",
     "output_type": "stream",
     "text": [
      "Part 1 ans: 936063\n"
     ]
    }
   ],
   "source": [
    "#Day 1 part 1: Hystorian Hysteria\n",
    "data = open(\"day1_1.txt\", \"r\").read().split(\"\\n\")\n",
    "data = [list(map(int, i.split())) for i in data]\n",
    "list1, list2 = zip(*data)\n",
    "list1 = sorted(list1)\n",
    "list2 = sorted(list2)\n",
    "ans1 = sum(abs(x - y) for x, y in zip(list1, list2))\n",
    "print(f\"Part 1 ans: {ans1}\")"
   ]
  },
  {
   "cell_type": "code",
   "execution_count": 87,
   "metadata": {},
   "outputs": [
    {
     "name": "stdout",
     "output_type": "stream",
     "text": [
      "Part 2 ans: 23150395\n"
     ]
    }
   ],
   "source": [
    "#Day 1 part 2: \n",
    "ans2 = sum(i * list2.count(i) for i in list1)\n",
    "print(f\"Part 2 ans: {ans2}\")"
   ]
  }
 ],
 "metadata": {
  "kernelspec": {
   "display_name": "Python 3",
   "language": "python",
   "name": "python3"
  },
  "language_info": {
   "codemirror_mode": {
    "name": "ipython",
    "version": 3
   },
   "file_extension": ".py",
   "mimetype": "text/x-python",
   "name": "python",
   "nbconvert_exporter": "python",
   "pygments_lexer": "ipython3",
   "version": "3.12.1"
  }
 },
 "nbformat": 4,
 "nbformat_minor": 2
}
