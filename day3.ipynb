{
 "cells": [
  {
   "cell_type": "code",
   "execution_count": 1,
   "metadata": {},
   "outputs": [
    {
     "name": "stdout",
     "output_type": "stream",
     "text": [
      "Part 1 ans: 174103751\n"
     ]
    }
   ],
   "source": [
    "#Day 3 part 1: Mull It Over\n",
    "import re\n",
    "\n",
    "data = open(\"data/day3.txt\", \"r\").read().split(\"\\n\")\n",
    "data = \"\".join(data)\n",
    "ans1 = 0\n",
    "for i in re.findall(r\"mul\\(\\d+,\\d+\\)\", data):\n",
    "    x, y = i.lstrip(\"mul(\").rstrip(\")\").split(\",\")\n",
    "    ans1 += int(x) * int(y)\n",
    "    \n",
    "print(f\"Part 1 ans: {ans1}\")"
   ]
  },
  {
   "cell_type": "code",
   "execution_count": null,
   "metadata": {},
   "outputs": [
    {
     "name": "stdout",
     "output_type": "stream",
     "text": [
      "Part 2 ans: 100411201\n"
     ]
    }
   ],
   "source": [
    "#Day 3 part 2:\n",
    "ans2 = 0\n",
    "check = True\n",
    "for i in re.findall(r\"mul\\(\\d+,\\d+\\)|don\\'t\\(+\\)|do\\(+\\)\", data):\n",
    "    if i == \"do()\":\n",
    "        check = True\n",
    "    elif i == \"don't()\":\n",
    "        check = False\n",
    "    elif check:\n",
    "        x, y = i.lstrip(\"mul(\").rstrip(\")\").split(\",\")\n",
    "        ans2 += int(x) * int(y)\n",
    "\n",
    "print(f\"Part 2 ans: {ans2}\")\n"
   ]
  }
 ],
 "metadata": {
  "kernelspec": {
   "display_name": "Python 3",
   "language": "python",
   "name": "python3"
  },
  "language_info": {
   "codemirror_mode": {
    "name": "ipython",
    "version": 3
   },
   "file_extension": ".py",
   "mimetype": "text/x-python",
   "name": "python",
   "nbconvert_exporter": "python",
   "pygments_lexer": "ipython3",
   "version": "3.12.1"
  }
 },
 "nbformat": 4,
 "nbformat_minor": 2
}
