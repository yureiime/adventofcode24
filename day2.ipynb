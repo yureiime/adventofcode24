{
 "cells": [
  {
   "cell_type": "code",
   "execution_count": 24,
   "metadata": {},
   "outputs": [
    {
     "name": "stdout",
     "output_type": "stream",
     "text": [
      "Part 1 ans: 269\n"
     ]
    }
   ],
   "source": [
    "#Day 2 part 1: Red-Nosed Reports\n",
    "data = open(\"data/day2.txt\", \"r\").read().split(\"\\n\")\n",
    "data = [list(map(int, i.split())) for i in data]\n",
    "\n",
    "def safe(x):\n",
    "    if x == sorted(x) or x == sorted(x, reverse=True):\n",
    "        return all(1 <= abs(x[i] - x[i+1]) <= 3 for i in range(len(x)-1)) #return true if difference is met\n",
    "    return False\n",
    "    \n",
    "ans1 = 0\n",
    "for i in data:\n",
    "    if safe(i):\n",
    "        ans1 += 1\n",
    "        \n",
    "print(f\"Part 1 ans: {ans1}\")"
   ]
  },
  {
   "cell_type": "code",
   "execution_count": null,
   "metadata": {},
   "outputs": [
    {
     "name": "stdout",
     "output_type": "stream",
     "text": [
      "Part 2 ans: 337\n"
     ]
    }
   ],
   "source": [
    "#Day 2 part 2\n",
    "ans2 = 0\n",
    "for i in data:\n",
    "    if safe(i) or any(safe(i[:j] + i[j+1:]) for j in range(len(i))): #brute force over combinations of lists\n",
    "        ans2 += 1\n",
    "print(f\"Part 2 ans: {ans2}\")"
   ]
  }
 ],
 "metadata": {
  "kernelspec": {
   "display_name": "Python 3",
   "language": "python",
   "name": "python3"
  },
  "language_info": {
   "codemirror_mode": {
    "name": "ipython",
    "version": 3
   },
   "file_extension": ".py",
   "mimetype": "text/x-python",
   "name": "python",
   "nbconvert_exporter": "python",
   "pygments_lexer": "ipython3",
   "version": "3.12.1"
  }
 },
 "nbformat": 4,
 "nbformat_minor": 2
}
