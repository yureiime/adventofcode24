{
 "cells": [
  {
   "cell_type": "code",
   "execution_count": 1,
   "metadata": {},
   "outputs": [
    {
     "data": {
      "text/plain": [
       "'Part 1 ans: 2618'"
      ]
     },
     "execution_count": 1,
     "metadata": {},
     "output_type": "execute_result"
    }
   ],
   "source": [
    "#Day 4 part 1: Ceres Search\n",
    "data = open(\"data/day4.txt\", \"r\").read().split(\"\\n\")\n",
    "\n",
    "def find(puzzle, word):\n",
    "    ans1 = 0\n",
    "    first_letter = word[0]\n",
    "    word_len = len(word)\n",
    "    m = len(puzzle)\n",
    "    n = len(puzzle[0])\n",
    "    directions = [(1, 0), (-1, 0), (0, 1), (0, -1), (1, 1), (-1, -1), (1, -1), (-1, 1)] #define 8 cardinal directions\n",
    "    \n",
    "    if word_len > m or word_len > n:\n",
    "            return \"Word is too long!\"\n",
    "    \n",
    "    def directional_check(row, col, x, y):\n",
    "        for k in range(word_len-1):\n",
    "            nx = row + (k+1)*x\n",
    "            ny = col + (k+1)*y\n",
    "            if nx < 0 or nx >= m or ny < 0 or ny >= n or puzzle[nx][ny] != word[k+1]:\n",
    "                return False\n",
    "        return True\n",
    "            \n",
    "    for row in range(m):\n",
    "        for col in range(n):\n",
    "            if puzzle[row][col] == first_letter:\n",
    "                for x, y in directions:\n",
    "                    if directional_check(row, col, x, y):\n",
    "                        ans1 += 1\n",
    "    \n",
    "    return f\"Part 1 ans: {ans1}\"\n",
    "\n",
    "find(data, \"XMAS\")"
   ]
  },
  {
   "cell_type": "code",
   "execution_count": 2,
   "metadata": {},
   "outputs": [
    {
     "data": {
      "text/plain": [
       "'Part 2 ans: 2011'"
      ]
     },
     "execution_count": 2,
     "metadata": {},
     "output_type": "execute_result"
    }
   ],
   "source": [
    "#Day 4 part 2\n",
    "def findmas(puzzle):\n",
    "    ans2 = 0\n",
    "    m = len(puzzle)\n",
    "    n = len(puzzle[0])\n",
    "    \n",
    "    def square_check(row, col):\n",
    "        if row + 1 >= m or row - 1 < 0 or col + 1 >= n or col - 1 < 0:\n",
    "            return False    \n",
    "        square = puzzle[row-1][col-1] + puzzle[row-1][col+1] + puzzle[row+1][col+1] + puzzle[row+1][col-1]\n",
    "        check = {\"MMSS\", \"MSSM\", \"SSMM\", \"SMMS\"}\n",
    "        return square in check\n",
    "    \n",
    "    for row in range(m):\n",
    "        for col in range(n):\n",
    "            if puzzle[row][col] == \"A\":\n",
    "                if square_check(row, col):\n",
    "                    ans2 += 1\n",
    "                    \n",
    "    return f\"Part 2 ans: {ans2}\"\n",
    "\n",
    "findmas(data)"
   ]
  }
 ],
 "metadata": {
  "kernelspec": {
   "display_name": "Python 3",
   "language": "python",
   "name": "python3"
  },
  "language_info": {
   "codemirror_mode": {
    "name": "ipython",
    "version": 3
   },
   "file_extension": ".py",
   "mimetype": "text/x-python",
   "name": "python",
   "nbconvert_exporter": "python",
   "pygments_lexer": "ipython3",
   "version": "3.12.1"
  }
 },
 "nbformat": 4,
 "nbformat_minor": 2
}
